{
  "cells": [
    {
      "cell_type": "markdown",
      "metadata": {},
      "source": [
        "# GraphRAG Library Tutorial\n",
        "\n",
        "This notebook demonstrates the setup and usage of GraphRAG, an AI graph-based content interpretation and search capability, and an alternative to traditional RAG with vector stores. The notebook includes the steps to initialize GraphRAG, load data, fine-tune prompts, index data, and perform both local and global searches.\n",
        "\n",
        "> **Note:**\n",
        "> Please ignore all the warnings and erros during executions of the cells, as graphrag is still very fresh and in development. All of the errors and warnings are non-breaking, they don't throw an exception, so you can continue working on without interruption."
      ]
    },
    {
      "cell_type": "markdown",
      "metadata": {},
      "source": [
        "### 1. Import Required Modules\n",
        "\n",
        "First, we import the necessary modules and set up the environment for the notebook."
      ]
    },
    {
      "cell_type": "code",
      "execution_count": 1,
      "metadata": {},
      "outputs": [
        {
          "name": "stderr",
          "output_type": "stream",
          "text": [
            "c:\\Users\\selhousseini\\.conda\\envs\\gr-acc\\Lib\\site-packages\\tqdm\\auto.py:21: TqdmWarning: IProgress not found. Please update jupyter and ipywidgets. See https://ipywidgets.readthedocs.io/en/stable/user_install.html\n",
            "  from .autonotebook import tqdm as notebook_tqdm\n"
          ]
        }
      ],
      "source": [
        "%load_ext autoreload\n",
        "%autoreload 2\n",
        "\n",
        "############# IMPORTS\n",
        "\n",
        "\n",
        "import os\n",
        "from utils.graphrag_helper import *\n",
        "\n",
        "from IPython.display import display, Markdown, HTML\n",
        "\n",
        "import warnings\n",
        "warnings.filterwarnings('ignore', category=UserWarning, module='pandas', message=\".*indexing.*\") \n",
        "warnings.filterwarnings('ignore', category=UserWarning, module='pandas', message=\".*SettingWithCopyWarning.*\") "
      ]
    },
    {
      "cell_type": "markdown",
      "metadata": {},
      "source": [
        "### 2. Initialize GraphRagHelper\n",
        "\n",
        "We create an instance of the `GraphRagHelper` class, pointing it to the project directory where our data and configurations are stored."
      ]
    },
    {
      "cell_type": "code",
      "execution_count": 2,
      "metadata": {},
      "outputs": [],
      "source": [
        "## You can use the 'sample_graphrag' folder and skip below steps 3, 4, and 5, to try search right away.\n",
        "\n",
        "gr = GraphRagHelper('graphrag')"
      ]
    },
    {
      "cell_type": "markdown",
      "metadata": {},
      "source": [
        "### 3. Initialize the Project\n",
        "\n",
        "Initialize the GraphRAG project by running the setup command. This prepares the necessary directories and environment configurations."
      ]
    },
    {
      "cell_type": "code",
      "execution_count": 3,
      "metadata": {},
      "outputs": [
        {
          "name": "stdout",
          "output_type": "stream",
          "text": [
            "Subprocessing command: ['python', '-m', 'graphrag.index', '--init', '--root', 'sample_graphrag']\n",
            "Standard Output:\n",
            "⠋ GraphRAG Indexer \n",
            "Initializing project at sample_graphrag\n",
            "⠋ GraphRAG Indexer \n",
            "Standard Error:\n",
            "\n"
          ]
        },
        {
          "data": {
            "text/plain": [
              "{'stdout': '⠋ GraphRAG Indexer \\nInitializing project at sample_graphrag\\n⠋ GraphRAG Indexer ',\n",
              " 'stderr': '',\n",
              " 'status': True}"
            ]
          },
          "execution_count": 3,
          "metadata": {},
          "output_type": "execute_result"
        }
      ],
      "source": [
        "gr.initialize()"
      ]
    },
    {
      "cell_type": "markdown",
      "metadata": {},
      "source": [
        "### 4. Load Data and Fine-Tune Prompts\n",
        "\n",
        "Load the initial dataset and fine-tune the prompts based on this data. Index the data to prepare it for search operations."
      ]
    },
    {
      "cell_type": "code",
      "execution_count": null,
      "metadata": {},
      "outputs": [],
      "source": [
        "gr.load_data('sample_data')\n",
        "gr.prompt_fine_tune()\n",
        "gr.index_data()"
      ]
    },
    {
      "cell_type": "markdown",
      "metadata": {},
      "source": [
        "### 5. Load Additional Data and Re-index\n",
        "\n",
        "If additional data is available, load it and repeat the fine-tuning and indexing process to update the dataset. This is just to demonstrate that you can do delta additions to the graph."
      ]
    },
    {
      "cell_type": "code",
      "execution_count": null,
      "metadata": {},
      "outputs": [],
      "source": [
        "## 2nd pass\n",
        "gr.load_data('sample_data_extra/')\n",
        "gr.prompt_fine_tune()\n",
        "gr.index_data()"
      ]
    },
    {
      "cell_type": "markdown",
      "metadata": {},
      "source": [
        "### 6.A. Perform a Local Search\n",
        "\n",
        "Execute a local search query to retrieve relevant information from the indexed dataset."
      ]
    },
    {
      "cell_type": "code",
      "execution_count": 11,
      "metadata": {},
      "outputs": [
        {
          "name": "stdout",
          "output_type": "stream",
          "text": [
            "The most recent folder is: 20240723-143050\n",
            "Most recent path:  sample_graphrag\\output\\20240723-143050\\artifacts\n",
            "Entity Table path:  sample_graphrag\\output\\20240723-143050\\artifacts/create_final_nodes.parquet\n",
            "## Location of The Kensington Hotel\n",
            "\n",
            "The Kensington Hotel is a budget accommodation option located in London, specifically near Earl's Court. Earl's Court is a well-known area in London, making the hotel conveniently situated for visitors looking to explore the city [Data: Entities (93, 99, 103); Relationships (88, 103, 104)].\n",
            "\n",
            "### Nearby Attractions\n",
            "\n",
            "Being in close proximity to Earl's Court, The Kensington Hotel offers easy access to various attractions and amenities in the area. This makes it an ideal choice for budget-conscious travelers who want to stay in a central location without compromising on accessibility.\n",
            "\n",
            "### Booking Information\n",
            "\n",
            "For those interested in booking a stay at The Kensington Hotel, Margie's Travel offers accommodation options and comprehensive travel services to ensure a seamless and enjoyable experience [Data: Entities (90); Relationships (96)].\n",
            "\n",
            "In summary, The Kensington Hotel is strategically located near Earl's Court in London, providing a budget-friendly option for travelers looking to explore the city.\n"
          ]
        }
      ],
      "source": [
        "r = gr.local_search(\"where is the Kengsington Hotel?\", community_level=1)"
      ]
    },
    {
      "cell_type": "markdown",
      "metadata": {},
      "source": [
        "### 6.B Perform a Local Search\n",
        "\n",
        "Execute a local search query to retrieve relevant information from the indexed dataset."
      ]
    },
    {
      "cell_type": "code",
      "execution_count": 5,
      "metadata": {},
      "outputs": [
        {
          "name": "stdout",
          "output_type": "stream",
          "text": [
            "The most recent folder is: 20240723-143050\n",
            "Most recent path:  sample_graphrag\\output\\20240723-143050\\artifacts\n",
            "Entity Table path:  sample_graphrag\\output\\20240723-143050\\artifacts/create_final_nodes.parquet\n",
            "# Safety Measures in the Tesla Model S\n",
            "\n",
            "The Tesla Model S is renowned for its comprehensive suite of safety features, which contribute to its high safety ratings and reputation as one of the safest vehicles on the road. Below, we explore the various safety measures integrated into the Tesla Model S.\n",
            "\n",
            "## Structural Safety\n",
            "\n",
            "The Tesla Model S features a lightweight aluminum body that enhances both efficiency and safety. The aluminum structure is designed to absorb impact energy more effectively than steel, providing superior protection in the event of a collision [Data: Entities (7, 69); Sources (15)].\n",
            "\n",
            "## Advanced Driver-Assistance Systems\n",
            "\n",
            "The Model S is equipped with advanced driver-assistance capabilities, including the Autopilot system and the optional Full Self-Driving package. These systems use cameras, ultrasonic sensors, and radar to control steering, acceleration, and braking under certain conditions, significantly enhancing driver safety and convenience [Data: Entities (12, 29, 31); Relationships (10, 13, 50, 44, +more)].\n",
            "\n",
            "## Adaptive Lighting System\n",
            "\n",
            "The adaptive lighting system in the Tesla Model S automatically adjusts the direction and range of the headlights based on driving speed and steering angle. This feature improves visibility during nighttime driving and in curves, thereby enhancing overall driving safety [Data: Entities (78, 22); Relationships (68, 20)].\n",
            "\n",
            "## HEPA Air Filtration System\n",
            "\n",
            "The Model S includes a HEPA air filtration system that filters out 99.97% of fine particulate matter and allergens from the air, providing cleaner air for passengers and protection against bioweapons. This advanced filtration system is designed to enhance the in-cabin air quality, ensuring a healthier and safer environment for all occupants [Data: Entities (23, 41); Relationships (21, 38)].\n",
            "\n",
            "## Regenerative Braking System\n",
            "\n",
            "The regenerative braking system in the Tesla Model S converts kinetic energy back into battery power, extending the vehicle's range and reducing brake pad wear. This system not only conserves energy but also enhances safety by providing additional braking force [Data: Entities (9); Relationships (9)].\n",
            "\n",
            "## Pedestrian Warning System\n",
            "\n",
            "The Model S features a dedicated pedestrian warning system that uses external speakers to produce noise at low speeds, alerting pedestrians of the vehicle's presence. This safety feature addresses the quiet nature of electric vehicles, ensuring that pedestrians are aware of the car's approach [Data: Sources (13)].\n",
            "\n",
            "## Sentry Mode\n",
            "\n",
            "Tesla's Sentry Mode turns the Model S into a security system, using the car's external cameras to monitor its surroundings for potential threats when parked. This feature provides owners with peace of mind by enhancing vehicle security [Data: Sources (13)].\n",
            "\n",
            "## Comprehensive Warranty\n",
            "\n",
            "Tesla offers a comprehensive warranty for the Model S, including an 8-year or unlimited mile battery and drive unit warranty and a 4-year or 50,000-mile limited warranty covering the rest of the vehicle. This coverage underscores Tesla's confidence in the reliability and longevity of their electric vehicles [Data: Entities (13); Relationships (11)].\n",
            "\n",
            "## High Safety Ratings\n",
            "\n",
            "The Tesla Model S has received numerous accolades for its safety, including a 5-star safety rating from the National Highway Traffic Safety Administration (NHTSA) across all categories and subcategories. This recognition highlights the vehicle's exceptional safety performance in crash tests [Data: Entities (10); Relationships (8)].\n",
            "\n",
            "## Conclusion\n",
            "\n",
            "The Tesla Model S incorporates a wide range of safety measures, from structural integrity and advanced driver-assistance systems to innovative features like the HEPA air filtration system and Sentry Mode. These elements collectively contribute to the Model S's reputation as a leader in automotive safety, providing peace of mind for drivers and passengers alike.\n"
          ]
        }
      ],
      "source": [
        "r = gr.local_search(\"what are the safety measures in the Tesla S?\", community_level=2)"
      ]
    },
    {
      "cell_type": "markdown",
      "metadata": {},
      "source": [
        "### 7. Retrieve Context for a Specific Query\n",
        "\n",
        "For a more detailed analysis, retrieve the context associated with a specific query without performing a full search."
      ]
    },
    {
      "cell_type": "code",
      "execution_count": 14,
      "metadata": {},
      "outputs": [
        {
          "name": "stdout",
          "output_type": "stream",
          "text": [
            "The most recent folder is: 20240723-143050\n",
            "Most recent path:  sample_graphrag\\output\\20240723-143050\\artifacts\n",
            "Entity Table path:  sample_graphrag\\output\\20240723-143050\\artifacts/create_final_nodes.parquet\n"
          ]
        }
      ],
      "source": [
        "r = gr.local_search(\"where is the Kensington Hotel?\", community_level=1, context_only=True)\n"
      ]
    },
    {
      "cell_type": "markdown",
      "metadata": {},
      "source": [
        "### 8. Inspect Context Records\n",
        "\n",
        "Check the keys of the context records returned from the previous context-only search."
      ]
    },
    {
      "cell_type": "code",
      "execution_count": 15,
      "metadata": {},
      "outputs": [
        {
          "data": {
            "text/plain": [
              "dict_keys(['reports', 'relationships', 'claims', 'entities', 'sources'])"
            ]
          },
          "execution_count": 15,
          "metadata": {},
          "output_type": "execute_result"
        }
      ],
      "source": [
        "r['context_records'].keys()"
      ]
    },
    {
      "cell_type": "markdown",
      "metadata": {},
      "source": [
        "### 9. Display Entities from Context Records\n",
        "\n",
        "Display the first few entities from the context records to understand the structure of the retrieved context."
      ]
    },
    {
      "cell_type": "code",
      "execution_count": 16,
      "metadata": {},
      "outputs": [
        {
          "data": {
            "text/markdown": [
              "|    |   id | entity               | description                                                                                                                              |   number of relationships | in_context   |\n",
              "|---:|-----:|:---------------------|:-----------------------------------------------------------------------------------------------------------------------------------------|--------------------------:|:-------------|\n",
              "|  0 |   93 | THE KENSINGTON HOTEL | The Kensington Hotel is a budget accommodation option in London, near Earl’s Court                                                       |                         4 | True         |\n",
              "|  1 |   99 | EARL'S COURT         | Earl’s Court is an area in London, near The Kensington Hotel                                                                             |                         1 | True         |\n",
              "|  2 |  103 | EARL’S COURT         | Earl’s Court is a neighborhood in London, near The Kensington Hotel                                                                      |                         1 | True         |\n",
              "|  3 |   91 | THE BUCKINGHAM HOTEL | The Buckingham Hotel is a comfortable hotel in London, close to major sights like Buckingham Palace, Regent’s Park, and Trafalgar Square |                         6 | True         |"
            ],
            "text/plain": [
              "<IPython.core.display.Markdown object>"
            ]
          },
          "execution_count": 16,
          "metadata": {},
          "output_type": "execute_result"
        }
      ],
      "source": [
        "Markdown(r['context_records']['entities'][:4].to_markdown())"
      ]
    },
    {
      "cell_type": "markdown",
      "metadata": {},
      "source": [
        "### 10.A Perform a Global Search\n",
        "\n",
        "Execute a global search query to retrieve relevant information from a broader dataset that includes community-level insights.\n",
        "\n",
        "> **Note:**\n",
        "> The below demonstrates the power of GraphRAG. The below is not reliable when executing using traditional RAG with vector stores.\n",
        "\n",
        "> **Note:**\n",
        "> Notice that the topics cover mostly Tesla Model S and not Margie's Travel, since there are far fewer nodes for Margie's Travel, and therefore did not likely form a higher level community (level >= 2)."
      ]
    },
    {
      "cell_type": "code",
      "execution_count": 17,
      "metadata": {},
      "outputs": [
        {
          "name": "stdout",
          "output_type": "stream",
          "text": [
            "The most recent folder is: 20240723-143050\n",
            "Most recent path:  sample_graphrag\\output\\20240723-143050\\artifacts\n",
            "The database contains several topics related to the Tesla Model S, each focusing on different aspects of the vehicle. Below is a summary of the key topics covered:\n",
            "\n",
            "### Tesla Model S Community\n",
            "This topic encompasses various aspects of the Tesla Model S, including its advanced technology, high safety standards, sustainability, performance, customization options, influence on the automotive industry, versatility, charging solutions, recognition, and continuous updates [Data: Reports (3)].\n",
            "\n",
            "### Tesla Model S and Warranty\n",
            "This topic provides details about the comprehensive warranty offered by Tesla for the Model S. It includes information on the 8-year or unlimited mile battery and drive unit warranty, as well as the 4-year or 50,000-mile limited warranty [Data: Reports (4)].\n",
            "\n",
            "### Tesla Model S Energy-Saving Features\n",
            "This topic discusses the energy-saving features of the Tesla Model S, particularly focusing on the standby mode designed to minimize battery drain during extended periods of parking [Data: Reports (2)].\n",
            "\n",
            "### Tesla Model S and Bioweapon Defense Mode\n",
            "This topic highlights the Bioweapon Defense Mode feature of the Tesla Model S, which uses a HEPA filter to protect occupants from air pollution and biohazards [Data: Reports (1)].\n",
            "\n",
            "These topics collectively provide a comprehensive overview of the Tesla Model S, covering its technological innovations, warranty details, energy efficiency, and unique safety features.\n"
          ]
        },
        {
          "data": {
            "text/plain": [
              "{'response': 'The database contains several topics related to the Tesla Model S, each focusing on different aspects of the vehicle. Below is a summary of the key topics covered:\\n\\n### Tesla Model S Community\\nThis topic encompasses various aspects of the Tesla Model S, including its advanced technology, high safety standards, sustainability, performance, customization options, influence on the automotive industry, versatility, charging solutions, recognition, and continuous updates [Data: Reports (3)].\\n\\n### Tesla Model S and Warranty\\nThis topic provides details about the comprehensive warranty offered by Tesla for the Model S. It includes information on the 8-year or unlimited mile battery and drive unit warranty, as well as the 4-year or 50,000-mile limited warranty [Data: Reports (4)].\\n\\n### Tesla Model S Energy-Saving Features\\nThis topic discusses the energy-saving features of the Tesla Model S, particularly focusing on the standby mode designed to minimize battery drain during extended periods of parking [Data: Reports (2)].\\n\\n### Tesla Model S and Bioweapon Defense Mode\\nThis topic highlights the Bioweapon Defense Mode feature of the Tesla Model S, which uses a HEPA filter to protect occupants from air pollution and biohazards [Data: Reports (1)].\\n\\nThese topics collectively provide a comprehensive overview of the Tesla Model S, covering its technological innovations, warranty details, energy efficiency, and unique safety features.'}"
            ]
          },
          "execution_count": 17,
          "metadata": {},
          "output_type": "execute_result"
        }
      ],
      "source": [
        "await gr.global_search(\"what are the topics in this database?\")"
      ]
    },
    {
      "cell_type": "markdown",
      "metadata": {},
      "source": [
        "### 10.B Perform a Global Search\n",
        "\n",
        "> **Note:**\n",
        "> It looks like hotels is a topic in the graph that did not make it to the global clusters, due likely to its very low frequency and small size."
      ]
    },
    {
      "cell_type": "code",
      "execution_count": 18,
      "metadata": {},
      "outputs": [
        {
          "name": "stdout",
          "output_type": "stream",
          "text": [
            "I am sorry but I am unable to answer this question given the provided data.\n",
            "I am sorry but I am unable to answer this question given the provided data.\n"
          ]
        }
      ],
      "source": [
        "## It looks like hotels is a topic in the graph that did not make it to the global clusters, due likely to its very low frequency and small size.\n",
        "resp = await gr.global_search(\"what are all topics about hotels stored in the graph?\", community_level=2)\n",
        "print(resp['response'])"
      ]
    },
    {
      "cell_type": "markdown",
      "metadata": {},
      "source": [
        "### 11. Retrieve Global Context for a Specific Query\n",
        "\n",
        "Retrieve the context associated with a specific global search query without performing a full search."
      ]
    },
    {
      "cell_type": "code",
      "execution_count": 19,
      "metadata": {},
      "outputs": [
        {
          "data": {
            "text/plain": [
              "{'context_text': ['\\n\\nid|title|occurrence weight|content|rank\\r\\n3|Tesla Model S Community|1.0|\"# Tesla Model S Community\\n\\nThe community revolves around the Tesla Model S, a luxury electric sedan produced by Tesla. The Model S is notable for its advanced technology, high safety standards, and sustainability options. Key entities associated with the Model S include various technological features, safety systems, and performance enhancements that contribute to its reputation as a leading electric vehicle.\\n\\n## Advanced Technology and Features\\n\\nThe Tesla Model S is equipped with a range of advanced technologies and features that enhance its performance, safety, and user experience. These include the Autopilot system for semi-autonomous driving, a 17-inch touchscreen display for controlling various car functions, and over-the-air software updates that continuously improve the vehicle\\'s capabilities [Data: Entities (1, 4, 6, 16, 32, 45); Relationships (4, 6, 16, 31, 54, +more)].\\n\\n## High Safety Standards\\n\\nThe Model S has achieved a 5-star safety rating from the National Highway Traffic Safety Administration (NHTSA) in every category and subcategory. This is attributed to its unique electric architecture, low center of gravity, and advanced safety features such as the HEPA air filtration system and pedestrian warning system [Data: Entities (11, 15, 25, 56); Relationships (11, 15, 25, 55, +more)].\\n\\n## Sustainability and Environmental Impact\\n\\nThe Model S significantly reduces carbon emissions compared to internal combustion engine vehicles, contributing to a lower carbon footprint. Its electric powertrain is efficient and requires less maintenance, leading to lower service costs. Additionally, the Model S offers a vegan interior option, reflecting Tesla\\'s commitment to sustainability [Data: Entities (1, 18, 22, 47); Relationships (21, 46, 47, 17, +more)].\\n\\n## Performance and Efficiency\\n\\nThe Model S is renowned for its high performance and efficiency. It features a dual motor setup for all-wheel drive capabilities, a low drag coefficient of 0.208, and a long-range version that offers an EPA-estimated driving range of 405 miles on a full charge. These attributes make the Model S a standout in the electric vehicle market [Data: Entities (1, 3, 5, 7, 42); Relationships (3, 5, 7, 41, +more)].\\n\\n## Customization and User Experience\\n\\nThe Model S offers various customization options and features that enhance the user experience. These include adjustable ambient interior lighting, a customizable user interface, and a premium audio system with 11 speakers. The vehicle\\'s minimalistic interior design and continuous updates keep it modern and fresh [Data: Entities (1, 23, 27, 37, 38, 44, 50, 51); Relationships (23, 27, 37, 38, 44, +more)].\\n\\n## Influence on the Automotive Industry\\n\\nThe success of the Model S has had a significant impact on the automotive industry, encouraging a shift towards electric vehicles. Its innovative features and performance have set new standards for electric vehicles, influencing other manufacturers to adopt similar technologies and sustainability practices [Data: Entities (1, 43); Relationships (42)].\\n\\n## Versatility and Practicality\\n\\nThe Model S is versatile and practical, with features such as a large cargo space, towing capacity, and the ability to be used in various professional settings like police patrol cars and taxi fleets. These attributes make it a practical choice for a wide range of users [Data: Entities (1, 13, 27, 28, 48, 62, 63, 72); Relationships (13, 27, 28, 47, 62, 63, 72, +more)].\\n\\n## Innovative Charging Solutions\\n\\nThe Model S benefits from Tesla\\'s extensive charging infrastructure, including the Supercharger network and Destination Charging network. These networks facilitate long-distance travel and reduce charging times, enhancing the convenience and efficiency of electric vehicle usage [Data: Entities (1, 20, 58); Relationships (19, 57)].\\n\\n## Recognition and Awards\\n\\nThe Model S has received numerous accolades, including being named Motor Trend\\'s Car of the Year in 2013. This recognition highlights its exceptional performance, innovative technology, and significant impact on the automotive industry [Data: Entities (1, 9); Relationships (9)].\\n\\n## Continuous Improvement and Updates\\n\\nTesla continuously updates the Model S with new features and aesthetic refinements through over-the-air software updates. This capability allows Tesla to remotely improve the car\\'s performance, introduce new features, and fix bugs, ensuring that the Model S remains at the forefront of automotive technology [Data: Entities (1, 6, 50, 51); Relationships (6, 49, 51)].\"|8.5\\r\\n4|Tesla Model S and Warranty|0.9444444444444444|\"# Tesla Model S and Warranty\\n\\nThe community revolves around Tesla and its Model S luxury electric sedan. Tesla offers a comprehensive warranty for the Model S, which includes an 8-year or unlimited mile battery and drive unit warranty, and a 4-year or 50,000-mile limited warranty covering the rest of the vehicle. The relationships between Tesla, the Model S, and the warranty are central to understanding the community\\'s structure and significance.\\n\\n## Tesla\\'s Role in Manufacturing the Model S\\n\\nTesla is the manufacturer of the Model S, a luxury electric sedan. This relationship is crucial as it highlights Tesla\\'s role in the production and innovation of electric vehicles. The Model S is a flagship product for Tesla, representing its technological advancements and market position in the electric vehicle industry. [Data: Relationships (0)]\\n\\n## Comprehensive Warranty Offered by Tesla\\n\\nTesla offers a comprehensive warranty for the Model S, which includes an 8-year or unlimited mile battery and drive unit warranty, and a 4-year or 50,000-mile limited warranty covering the rest of the vehicle. This warranty is significant as it provides consumers with confidence in the durability and reliability of the Model S, potentially influencing purchasing decisions and enhancing Tesla\\'s reputation. [Data: Entities (16); Relationships (1)]\"|7.5\\r\\n2|Tesla Model S Energy-Saving Features|0.1111111111111111|\"# Tesla Model S Energy-Saving Features\\n\\nThe community revolves around the energy-saving features of the Tesla Model S, with a specific focus on the standby mode. These features are part of Tesla\\'s broader commitment to enhancing vehicle efficiency and sustainability, ensuring that the Model S remains a leader in the electric vehicle market.\\n\\n## Energy-Saving Features in the Model S\\n\\nThe Model S includes various energy-saving features designed to minimize battery drain, particularly during extended periods of parking. These features are integral to Tesla\\'s broader commitment to enhancing vehicle efficiency and sustainability. By optimizing energy consumption even when the vehicle is idle, these features help maintain the Model S\\'s position as a leader in electric vehicle technology. [Data: Entities (78); Relationships (76)]\\n\\n## Standby Mode as a Key Energy-Saving Feature\\n\\nStandby mode is one of the key energy-saving features in the Model S. It minimizes battery drain during extended periods of parking, making it particularly useful for owners who may leave their vehicles unused for long durations. This feature underscores Tesla\\'s focus on practical solutions to enhance the overall efficiency and sustainability of their vehicles. [Data: Entities (82); Relationships (82)]\"|7.5\\r\\n1|Tesla Model S and Bioweapon Defense Mode|0.1111111111111111|\"# Tesla Model S and Bioweapon Defense Mode\\n\\nThe community revolves around the Tesla Model S, specifically focusing on its Bioweapon Defense Mode feature. This feature utilizes a HEPA filter to protect occupants from air pollution and biohazards, highlighting Tesla\\'s commitment to advanced passenger safety and comfort.\\n\\n## Tesla Model S as the central entity\\n\\nThe Tesla Model S is the central entity in this community, featuring the Bioweapon Defense Mode. This innovative feature is designed to enhance cabin air quality by protecting occupants from air pollution and biohazards. The integration of such advanced technology underscores Tesla\\'s commitment to passenger safety and comfort, making the Model S a significant player in the automotive industry [Data: Relationships (58)].\\n\\n## Bioweapon Defense Mode\\'s functionality\\n\\nThe Bioweapon Defense Mode is a key feature of the Tesla Model S, utilizing a HEPA filter to create positive pressure inside the cabin. This mode is specifically designed to protect occupants from external air pollution and biohazards, thereby enhancing the overall safety and comfort of the vehicle. The implementation of this feature demonstrates Tesla\\'s innovative approach to addressing environmental and health concerns [Data: Entities (59); Relationships (58)].\\n\\n## Role of the HEPA filter\\n\\nThe HEPA filter is an essential component of the Bioweapon Defense Mode in the Tesla Model S. It is responsible for filtering out pollutants and biohazards from the air, ensuring that the cabin remains a safe and clean environment for occupants. The use of a HEPA filter highlights the advanced technological capabilities of Tesla in providing effective solutions for air quality management within their vehicles [Data: Entities (61); Relationships (81)].\\n\\n## Impact on passenger safety and comfort\\n\\nThe integration of the Bioweapon Defense Mode in the Tesla Model S significantly enhances passenger safety and comfort. By providing protection against air pollution and biohazards, this feature addresses critical health concerns, making the vehicle more appealing to safety-conscious consumers. This focus on advanced safety features positions Tesla as a leader in automotive innovation [Data: Entities (59); Relationships (58, 81)].\\n\\n## Tesla\\'s commitment to innovation\\n\\nThe development and implementation of the Bioweapon Defense Mode in the Tesla Model S reflect the company\\'s commitment to innovation and advanced technology. By addressing environmental and health concerns through such features, Tesla continues to set new standards in the automotive industry. This commitment not only enhances the brand\\'s reputation but also drives consumer interest and trust in Tesla\\'s products [Data: Entities (59, 61); Relationships (58, 81)].\"|7.5\\r\\n'],\n",
              " 'context_records': {'reports':   id                                     title  occurrence weight  \\\n",
              "  0  3                   Tesla Model S Community           1.000000   \n",
              "  1  4                Tesla Model S and Warranty           0.944444   \n",
              "  2  2      Tesla Model S Energy-Saving Features           0.111111   \n",
              "  3  1  Tesla Model S and Bioweapon Defense Mode           0.111111   \n",
              "  \n",
              "                                               content  rank  \n",
              "  0  # Tesla Model S Community\\n\\nThe community rev...   8.5  \n",
              "  1  # Tesla Model S and Warranty\\n\\nThe community ...   7.5  \n",
              "  2  # Tesla Model S Energy-Saving Features\\n\\nThe ...   7.5  \n",
              "  3  # Tesla Model S and Bioweapon Defense Mode\\n\\n...   7.5  }}"
            ]
          },
          "execution_count": 19,
          "metadata": {},
          "output_type": "execute_result"
        }
      ],
      "source": [
        "await gr.global_search(\"what is Tesla Model S about?\", context_only=True)"
      ]
    },
    {
      "cell_type": "code",
      "execution_count": null,
      "metadata": {},
      "outputs": [],
      "source": []
    }
  ],
  "metadata": {
    "kernelspec": {
      "display_name": "gr-acc",
      "language": "python",
      "name": "python3"
    },
    "language_info": {
      "codemirror_mode": {
        "name": "ipython",
        "version": 3
      },
      "file_extension": ".py",
      "mimetype": "text/x-python",
      "name": "python",
      "nbconvert_exporter": "python",
      "pygments_lexer": "ipython3",
      "version": "3.11.9"
    }
  },
  "nbformat": 4,
  "nbformat_minor": 2
}
